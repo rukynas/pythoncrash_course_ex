{
 "cells": [
  {
   "cell_type": "markdown",
   "metadata": {},
   "source": [
    "8-1. Message: Write a function called display_message() that prints one sen- tence telling everyone what you are learning about in this chapter. Call the function, and make sure the message displays correctly.\n",
    "\n",
    "8-2. Favorite Book: Write a function called favorite_book() that accepts one parameter, title. The function should print a message, such as One of my favorite books is Alice in Wonderland. Call the function, making sure to include a book title as an argument in the function call."
   ]
  },
  {
   "cell_type": "code",
   "execution_count": 1,
   "metadata": {},
   "outputs": [
    {
     "name": "stdout",
     "output_type": "stream",
     "text": [
      "In this chapter, we are learning about functions in Python.\n",
      "One of my favorite books is Alice in Wonderland.\n"
     ]
    }
   ],
   "source": [
    "def display_message():\n",
    "    \n",
    "    print(\"In this chapter, we are learning about functions in Python.\")\n",
    "\n",
    "# Call the function\n",
    "display_message()\n",
    "\n",
    "\n",
    "def favorite_book(title):\n",
    "    \n",
    "    print(f\"One of my favorite books is {title}.\")\n",
    "\n",
    "# Call the function with a book title\n",
    "favorite_book(\"Alice in Wonderland\")\n"
   ]
  },
  {
   "cell_type": "markdown",
   "metadata": {},
   "source": [
    "8-3. T-Shirt: Write a function called make_shirt() that accepts a size and the text of a message that should be printed on the shirt. The function should print a sentence summarizing the size of the shirt and the message printed on it.  \n",
    "Call the function once using positional arguments to make a shirt. Call the function a second time using keyword arguments."
   ]
  },
  {
   "cell_type": "code",
   "execution_count": 2,
   "metadata": {},
   "outputs": [
    {
     "name": "stdout",
     "output_type": "stream",
     "text": [
      "Shirt size: MEDIUM, Message: Python is cool!\n",
      "Shirt size: LARGE, Message: I love coding\n"
     ]
    }
   ],
   "source": [
    "def make_shirt(size, message):\n",
    "   \n",
    "    print(f\"Shirt size: {size.upper()}, Message: {message}\")\n",
    "\n",
    "make_shirt(\"medium\", \"Python is cool!\")\n",
    "\n",
    "make_shirt(size=\"large\", message=\"I love coding\")\n"
   ]
  },
  {
   "cell_type": "markdown",
   "metadata": {},
   "source": [
    "8-4. Large Shirts: Modify the make_shirt() function so that shirts are large\n",
    "by default with a message that reads I love Python. Make a large shirt and a medium shirt with the default message, and a shirt of any size with a different message."
   ]
  },
  {
   "cell_type": "code",
   "execution_count": 3,
   "metadata": {},
   "outputs": [
    {
     "name": "stdout",
     "output_type": "stream",
     "text": [
      "Shirt size: Large, Message: I love Python\n",
      "Shirt size: Medium, Message: I love Python\n",
      "Shirt size: Small, Message: Keep Coding!\n"
     ]
    }
   ],
   "source": [
    "def make_shirt(size=\"large\", message=\"I love Python\"):\n",
    "   print(f\"Shirt size: {size.title()}, Message: {message}\")\n",
    "\n",
    "make_shirt()\n",
    "\n",
    "make_shirt(size=\"medium\")\n",
    "\n",
    "make_shirt(size=\"small\", message=\"Keep Coding!\")\n"
   ]
  },
  {
   "cell_type": "markdown",
   "metadata": {},
   "source": []
  },
  {
   "cell_type": "code",
   "execution_count": null,
   "metadata": {},
   "outputs": [],
   "source": []
  }
 ],
 "metadata": {
  "kernelspec": {
   "display_name": "adsatesting",
   "language": "python",
   "name": "python3"
  },
  "language_info": {
   "codemirror_mode": {
    "name": "ipython",
    "version": 3
   },
   "file_extension": ".py",
   "mimetype": "text/x-python",
   "name": "python",
   "nbconvert_exporter": "python",
   "pygments_lexer": "ipython3",
   "version": "3.10.13"
  },
  "orig_nbformat": 4
 },
 "nbformat": 4,
 "nbformat_minor": 2
}
