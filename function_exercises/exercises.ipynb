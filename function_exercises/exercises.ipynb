{
 "cells": [
  {
   "cell_type": "markdown",
   "metadata": {},
   "source": [
    "8-1. Message: Write a function called display_message() that prints one sen- tence telling everyone what you are learning about in this chapter. Call the function, and make sure the message displays correctly.\n",
    "\n",
    "8-2. Favorite Book: Write a function called favorite_book() that accepts one parameter, title. The function should print a message, such as One of my favorite books is Alice in Wonderland. Call the function, making sure to include a book title as an argument in the function call."
   ]
  },
  {
   "cell_type": "code",
   "execution_count": 1,
   "metadata": {},
   "outputs": [
    {
     "name": "stdout",
     "output_type": "stream",
     "text": [
      "In this chapter, we are learning about functions in Python.\n",
      "One of my favorite books is Alice in Wonderland.\n"
     ]
    }
   ],
   "source": [
    "def display_message():\n",
    "    \n",
    "    print(\"In this chapter, we are learning about functions in Python.\")\n",
    "\n",
    "# Call the function\n",
    "display_message()\n",
    "\n",
    "\n",
    "def favorite_book(title):\n",
    "    \n",
    "    print(f\"One of my favorite books is {title}.\")\n",
    "\n",
    "# Call the function with a book title\n",
    "favorite_book(\"Alice in Wonderland\")\n"
   ]
  },
  {
   "cell_type": "markdown",
   "metadata": {},
   "source": [
    "8-3. T-Shirt: Write a function called make_shirt() that accepts a size and the text of a message that should be printed on the shirt. The function should print a sentence summarizing the size of the shirt and the message printed on it.  \n",
    "Call the function once using positional arguments to make a shirt. Call the function a second time using keyword arguments."
   ]
  },
  {
   "cell_type": "code",
   "execution_count": 2,
   "metadata": {},
   "outputs": [
    {
     "name": "stdout",
     "output_type": "stream",
     "text": [
      "Shirt size: MEDIUM, Message: Python is cool!\n",
      "Shirt size: LARGE, Message: I love coding\n"
     ]
    }
   ],
   "source": [
    "def make_shirt(size, message):\n",
    "   \n",
    "    print(f\"Shirt size: {size.upper()}, Message: {message}\")\n",
    "\n",
    "make_shirt(\"medium\", \"Python is cool!\")\n",
    "\n",
    "make_shirt(size=\"large\", message=\"I love coding\")\n"
   ]
  },
  {
   "cell_type": "markdown",
   "metadata": {},
   "source": [
    "8-4. Large Shirts: Modify the make_shirt() function so that shirts are large\n",
    "by default with a message that reads I love Python. Make a large shirt and a medium shirt with the default message, and a shirt of any size with a different message."
   ]
  },
  {
   "cell_type": "code",
   "execution_count": 3,
   "metadata": {},
   "outputs": [
    {
     "name": "stdout",
     "output_type": "stream",
     "text": [
      "Shirt size: Large, Message: I love Python\n",
      "Shirt size: Medium, Message: I love Python\n",
      "Shirt size: Small, Message: Keep Coding!\n"
     ]
    }
   ],
   "source": [
    "def make_shirt(size=\"large\", message=\"I love Python\"):\n",
    "   print(f\"Shirt size: {size.title()}, Message: {message}\")\n",
    "\n",
    "make_shirt()\n",
    "\n",
    "make_shirt(size=\"medium\")\n",
    "\n",
    "make_shirt(size=\"small\", message=\"Keep Coding!\")\n"
   ]
  },
  {
   "cell_type": "markdown",
   "metadata": {},
   "source": [
    "8-5. Cities: Write a function called describe_city() that accepts the name of a city and its country. The function should print a simple sentence, such as Reykjavik is in Iceland. Give the parameter for the country a default value. Call your function for three different cities, at least one of which is not in the default country."
   ]
  },
  {
   "cell_type": "code",
   "execution_count": 4,
   "metadata": {},
   "outputs": [
    {
     "name": "stdout",
     "output_type": "stream",
     "text": [
      "Reykjavik is in Iceland.\n",
      "Tokyo is in Japan.\n",
      "Paris is in Unknown.\n"
     ]
    }
   ],
   "source": [
    "def describe_city(city, country=\"Unknown\"):\n",
    "    print(f\"{city} is in {country}.\")\n",
    "\n",
    "# Call the function for three different cities\n",
    "describe_city(\"Reykjavik\", \"Iceland\")\n",
    "describe_city(\"Tokyo\", \"Japan\")\n",
    "describe_city(\"Paris\")  "
   ]
  },
  {
   "cell_type": "markdown",
   "metadata": {},
   "source": [
    "8-6. City Names: Write a function called city_country() that takes in the name of a city and its country. The function should return a string formatted like this:  \n",
    "\n",
    "    \"Santiago, Chile\"\n",
    "    \n",
    "Call your function with at least three city-country pairs, and print the values that are returned."
   ]
  },
  {
   "cell_type": "code",
   "execution_count": 1,
   "metadata": {},
   "outputs": [
    {
     "name": "stdout",
     "output_type": "stream",
     "text": [
      "Santiago, Chile\n",
      "Tokyo, Japan\n",
      "Paris, France\n"
     ]
    }
   ],
   "source": [
    "def city_country(city, country):\n",
    "    return f\"{city.title()}, {country.title()}\"\n",
    "\n",
    "# Call the function with three city-country pairs\n",
    "location1 = city_country(\"santiago\", \"chile\")\n",
    "location2 = city_country(\"tokyo\", \"japan\")\n",
    "location3 = city_country(\"paris\", \"france\")\n",
    "\n",
    "# Print the result\n",
    "print(location1)\n",
    "print(location2)\n",
    "print(location3)\n"
   ]
  },
  {
   "cell_type": "markdown",
   "metadata": {},
   "source": [
    "8-7. Album: Write a function called make_album() that builds a dictionary describing a music album. The function should take in an artist name and an album title, and it should return a dictionary containing these two pieces of information. Use the function to make three dictionaries representing different albums. Print each return value to show that the dictionaries are storing the album information correctly.\n",
    "\n",
    "Use None to add an optional parameter to make_album() that allows you to store the number of songs on an album. If the calling line includes a value for the number of songs, add that value to the album’s dictionary. Make at least one new function call that includes the number of songs on an album.\n"
   ]
  },
  {
   "cell_type": "code",
   "execution_count": 3,
   "metadata": {},
   "outputs": [
    {
     "name": "stdout",
     "output_type": "stream",
     "text": [
      "{'artist': 'Psquare', 'title': 'Busy body', 'songs': 12}\n",
      "{'artist': 'Ed Sheeran', 'title': '÷ (Divide)', 'songs': 16}\n"
     ]
    }
   ],
   "source": [
    "def make_album(artist, title, songs=None):\n",
    "    album = {\"artist\": artist, \"title\": title}\n",
    "    if songs is not None:\n",
    "        album[\"songs\"] = songs\n",
    "    return album\n",
    "\n",
    "# Make three dictionaries representing different albums\n",
    "album1 = make_album(\"Psquare\", \"Busy body\", 12)\n",
    "album2 = make_album(\"Ed Sheeran\", \"÷ (Divide)\", 16)\n",
    "\n",
    "print(album1)\n",
    "print(album2)\n"
   ]
  },
  {
   "cell_type": "markdown",
   "metadata": {},
   "source": []
  },
  {
   "cell_type": "code",
   "execution_count": 4,
   "metadata": {},
   "outputs": [
    {
     "name": "stdout",
     "output_type": "stream",
     "text": [
      "{'artist': 'ed', 'title': 'perfect', 'songs': '9'}\n",
      "{'artist': '', 'title': '', 'songs': ''}\n"
     ]
    }
   ],
   "source": [
    "def make_album(artist, title, songs=None):\n",
    "\n",
    "    album = {\"artist\": artist, \"title\": title}\n",
    "    if songs is not None:\n",
    "        album[\"songs\"] = songs\n",
    "    return album\n",
    "\n",
    "# User input loop for entering album information\n",
    "while True:\n",
    "    artist = input(\"Enter the artist of the album (or type 'quit' to exit): \")\n",
    "    if artist.lower() == 'quit':\n",
    "        break\n",
    "    \n",
    "    title = input(\"Enter the title of the album: \")\n",
    "    songs = input(\"Enter the number of songs on the album (optional): \")\n",
    "\n",
    "    # Call make_album \n",
    "    album_info = make_album(artist, title, songs)\n",
    "    print(album_info)\n"
   ]
  },
  {
   "cell_type": "markdown",
   "metadata": {},
   "source": [
    "8-9. Messages: Make a list containing a series of short text messages. Pass the list to a function called show_messages(), which prints each text message.\n",
    "\n"
   ]
  },
  {
   "cell_type": "code",
   "execution_count": null,
   "metadata": {},
   "outputs": [],
   "source": [
    "def show_messages(messages):\n",
    "    \"\"\"Prints each text message from the list.\"\"\"\n",
    "    for message in messages:\n",
    "        print(message)\n",
    "\n",
    "# Define a list of short text messages\n",
    "text_messages = [\n",
    "    \"Hello, how are you?\",\n",
    "    \"Just checking in!\",\n",
    "    \"Remember to complete your tasks.\",\n",
    "    \"Have a great day!\",\n",
    "]\n",
    "\n",
    "# Call the function to print each text message\n",
    "show_messages(text_messages)\n"
   ]
  },
  {
   "cell_type": "markdown",
   "metadata": {},
   "source": [
    "8-10. Sending Messages: Start with a copy of your program from Exercise 8-9. Write a function called send_messages() that prints each text message and moves each message to a new list called sent_messages as it’s printed. After calling the function, print both of your lists to make sure the messages were moved correctly."
   ]
  },
  {
   "cell_type": "code",
   "execution_count": 6,
   "metadata": {},
   "outputs": [
    {
     "name": "stdout",
     "output_type": "stream",
     "text": [
      "Hello, how are you?\n",
      "Just checking in!\n",
      "Remember to complete your tasks.\n",
      "Have a great day!\n",
      "\n",
      "Original Messages:\n",
      "Hello, how are you?\n",
      "Just checking in!\n",
      "Remember to complete your tasks.\n",
      "Have a great day!\n",
      "\n",
      "Sent Messages:\n",
      "Hello, how are you?\n",
      "Just checking in!\n",
      "Remember to complete your tasks.\n",
      "Have a great day!\n"
     ]
    }
   ],
   "source": [
    "def show_messages(messages):\n",
    "    for message in messages:\n",
    "        print(message)\n",
    "\n",
    "def send_messages(messages, sent_messages):\n",
    "    for message in messages:\n",
    "        print(message)\n",
    "        sent_messages.append(message)\n",
    "\n",
    "# Define a list of short text messages\n",
    "text_messages = [\n",
    "    \"Hello, how are you?\",\n",
    "    \"Just checking in!\",\n",
    "    \"Remember to complete your tasks.\",\n",
    "    \"Have a great day!\",\n",
    "]\n",
    "\n",
    "# Create an empty list to store sent messages\n",
    "sent_messages = []\n",
    "\n",
    "# Call the function to print and move messages\n",
    "send_messages(text_messages, sent_messages)\n",
    "\n",
    "# Print both lists to check if messages were moved correctly\n",
    "print(\"\\nOriginal Messages:\")\n",
    "show_messages(text_messages)\n",
    "\n",
    "print(\"\\nSent Messages:\")\n",
    "show_messages(sent_messages)\n"
   ]
  },
  {
   "cell_type": "markdown",
   "metadata": {},
   "source": [
    "8-11. Archived Messages: Start with your work from Exercise 8-10. Call the func- tion send_messages() with a copy of the list of messages. After calling the func- tion, print both of your lists to show that the original list has retained its messages.\n"
   ]
  },
  {
   "cell_type": "code",
   "execution_count": 8,
   "metadata": {},
   "outputs": [
    {
     "name": "stdout",
     "output_type": "stream",
     "text": [
      "Hello, how are you?\n",
      "Just checking in!\n",
      "Remember to complete your tasks.\n",
      "Have a great day!\n",
      "\n",
      "Original Messages:\n",
      "Hello, how are you?\n",
      "Just checking in!\n",
      "Remember to complete your tasks.\n",
      "Have a great day!\n",
      "\n",
      "Sent Messages:\n",
      "Hello, how are you?\n",
      "Just checking in!\n",
      "Remember to complete your tasks.\n",
      "Have a great day!\n"
     ]
    }
   ],
   "source": [
    "def show_messages(messages):\n",
    "    for message in messages:\n",
    "        print(message)\n",
    "\n",
    "def send_messages(messages, sent_messages):\n",
    "    for message in messages:\n",
    "        print(message)\n",
    "        sent_messages.append(message)\n",
    "\n",
    "# Define a list of short text messages\n",
    "text_messages = [\n",
    "    \"Hello, how are you?\",\n",
    "    \"Just checking in!\",\n",
    "    \"Remember to complete your tasks.\",\n",
    "    \"Have a great day!\",\n",
    "]\n",
    "\n",
    "sent_messages = []\n",
    "\n",
    "# Call the function\n",
    "send_messages(text_messages[:], sent_messages)\n",
    "\n",
    "# Print both lists\n",
    "print(\"\\nOriginal Messages:\")\n",
    "show_messages(text_messages)\n",
    "\n",
    "print(\"\\nSent Messages:\")\n",
    "show_messages(sent_messages)\n"
   ]
  },
  {
   "cell_type": "markdown",
   "metadata": {},
   "source": [
    "8-12. Sandwiches: Write a function that accepts a list of items a person wants on a sandwich. The function should have one parameter that collects as many items as the function call provides, and it should print a summary of the sand- wich that’s being ordered. Call the function three times, using a different num- ber of arguments each time."
   ]
  },
  {
   "cell_type": "code",
   "execution_count": 10,
   "metadata": {},
   "outputs": [
    {
     "name": "stdout",
     "output_type": "stream",
     "text": [
      "\n",
      "Making a sandwich with the following toppings:\n",
      "- Beef\n",
      "- Cheese\n",
      "- Lettuce\n",
      "\n",
      "Making a sandwich with the following toppings:\n",
      "- Turkey\n",
      "- Ketchup\n",
      "\n",
      "Making a sandwich with the following toppings:\n",
      "- Chicken\n",
      "- Tomato\n",
      "- Mayonnaise\n"
     ]
    }
   ],
   "source": [
    "def make_sandwich(*toppings):\n",
    "    print(\"\\nMaking a sandwich with the following toppings:\")\n",
    "    for topping in toppings:\n",
    "        print(f\"- {topping}\")\n",
    "\n",
    "# Call the function three times\n",
    "make_sandwich(\"Beef\", \"Cheese\", \"Lettuce\")\n",
    "make_sandwich(\"Turkey\", \"Ketchup\")\n",
    "make_sandwich(\"Chicken\", \"Tomato\", \"Mayonnaise\")\n"
   ]
  },
  {
   "cell_type": "markdown",
   "metadata": {},
   "source": [
    "8-13. User Profile: Start with a copy of user_profile.py from page 148. Build a profile of yourself by calling build_profile(), using your first and last names and three other key-value pairs that describe you."
   ]
  },
  {
   "cell_type": "code",
   "execution_count": 11,
   "metadata": {},
   "outputs": [
    {
     "name": "stdout",
     "output_type": "stream",
     "text": [
      "{'first_name': 'Ruky', 'last_name': 'Iro', 'age': 30, 'occupation': 'Designer', 'location': 'Kano'}\n"
     ]
    }
   ],
   "source": [
    "def build_profile(first_name, last_name, **additional_info):\n",
    "    profile = {\n",
    "        'first_name': first_name,\n",
    "        'last_name': last_name,\n",
    "    }\n",
    "    profile.update(additional_info)\n",
    "    return profile\n",
    "\n",
    "# Create a user profile with first name, last name, and additional information\n",
    "my_profile = build_profile(\n",
    "    first_name='Ruky',\n",
    "    last_name='Iro',\n",
    "    age=30,\n",
    "    occupation='Designer',\n",
    "    location='Kano'\n",
    ")\n",
    "\n",
    "print(my_profile)\n"
   ]
  },
  {
   "cell_type": "markdown",
   "metadata": {},
   "source": [
    "Cars: Write a function that stores information about a car in a diction- ary. The function should always receive a manufacturer and a model name. It should then accept an arbitrary number of keyword arguments. Call the func- tion with the required information and two other name-value pairs, such as a color or an optional feature. Your function should work for a call like this one:\n",
    "\n",
    "                  car = make_car('subaru', 'outback', color='blue', tow_package=True)\n",
    "                  \n",
    "Print the dictionary that’s returned to make sure all the information was stored correctly."
   ]
  },
  {
   "cell_type": "code",
   "execution_count": 13,
   "metadata": {},
   "outputs": [
    {
     "name": "stdout",
     "output_type": "stream",
     "text": [
      "{'manufacturer': 'toyota', 'model': 'classy', 'color': 'blue', 'tow_package': True}\n"
     ]
    }
   ],
   "source": [
    "def make_car(manufacturer, model, **additional_info):\n",
    "    \n",
    "    car_info = {\n",
    "        'manufacturer': manufacturer,\n",
    "        'model': model,\n",
    "    }\n",
    "    car_info.update(additional_info)\n",
    "    return car_info\n",
    "\n",
    "car = make_car('toyota', 'classy', color='blue', tow_package=True)\n",
    "\n",
    "# Print the result\n",
    "print(car)\n"
   ]
  },
  {
   "cell_type": "markdown",
   "metadata": {},
   "source": [
    " Printing Models: Put the functions for the example printing_models.py in a separate file called printing_functions.py. Write an import statement at the top of printing_models.py, and modify the file to use the imported functions."
   ]
  },
  {
   "cell_type": "code",
   "execution_count": 22,
   "metadata": {},
   "outputs": [
    {
     "name": "stdout",
     "output_type": "stream",
     "text": [
      "Printing model: iPhone Case\n",
      "Printing model: LG\n",
      "Printing model: samsung\n",
      "\n",
      "The following models have been printed:\n"
     ]
    }
   ],
   "source": [
    "\n",
    "from printing_models import print_models, show_completed_models\n",
    "\n",
    "models_to_print = ['iPhone Case', 'LG', 'samsung']\n",
    "completed_models = []\n",
    "\n",
    "# Print each model and move it to the completed list\n",
    "print_models(models_to_print)\n",
    "show_completed_models(completed_models)\n",
    "\n"
   ]
  }
 ],
 "metadata": {
  "kernelspec": {
   "display_name": "adsatesting",
   "language": "python",
   "name": "python3"
  },
  "language_info": {
   "codemirror_mode": {
    "name": "ipython",
    "version": 3
   },
   "file_extension": ".py",
   "mimetype": "text/x-python",
   "name": "python",
   "nbconvert_exporter": "python",
   "pygments_lexer": "ipython3",
   "version": "3.10.13"
  },
  "orig_nbformat": 4
 },
 "nbformat": 4,
 "nbformat_minor": 2
}
